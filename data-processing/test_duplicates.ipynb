{
 "cells": [
  {
   "cell_type": "code",
   "execution_count": 1,
   "metadata": {},
   "outputs": [],
   "source": [
    "import pandas as pd"
   ]
  },
  {
   "cell_type": "code",
   "execution_count": 5,
   "metadata": {},
   "outputs": [],
   "source": [
    "shuffle_data = pd.read_csv('../data/shuffle_file.csv')"
   ]
  },
  {
   "cell_type": "code",
   "execution_count": 10,
   "metadata": {},
   "outputs": [],
   "source": [
    "duplicate_data = shuffle_data[shuffle_data.duplicated(['title'], keep=False)]\n",
    "#proves that data set contains multiple duplicates"
   ]
  },
  {
   "cell_type": "code",
   "execution_count": 12,
   "metadata": {},
   "outputs": [],
   "source": [
    "no_duplicates = shuffle_data.drop_duplicates(subset=['title'])"
   ]
  },
  {
   "cell_type": "code",
   "execution_count": 22,
   "metadata": {},
   "outputs": [],
   "source": [
    "del no_duplicates['Unnamed: 0']"
   ]
  },
  {
   "cell_type": "code",
   "execution_count": 23,
   "metadata": {},
   "outputs": [
    {
     "data": {
      "text/html": "<div>\n<style scoped>\n    .dataframe tbody tr th:only-of-type {\n        vertical-align: middle;\n    }\n\n    .dataframe tbody tr th {\n        vertical-align: top;\n    }\n\n    .dataframe thead th {\n        text-align: right;\n    }\n</style>\n<table border=\"1\" class=\"dataframe\">\n  <thead>\n    <tr style=\"text-align: right;\">\n      <th></th>\n      <th>title</th>\n      <th>Classifier</th>\n    </tr>\n  </thead>\n  <tbody>\n    <tr>\n      <th>0</th>\n      <td>At least 800 civilians killed by coalition str...</td>\n      <td>0</td>\n    </tr>\n    <tr>\n      <th>1</th>\n      <td>Bathroom lawsuit could send transgender rights...</td>\n      <td>0</td>\n    </tr>\n    <tr>\n      <th>2</th>\n      <td>British minister to be investigated over sexua...</td>\n      <td>0</td>\n    </tr>\n    <tr>\n      <th>3</th>\n      <td>Dutch tourist group cuts South Africa visit sh...</td>\n      <td>0</td>\n    </tr>\n    <tr>\n      <th>4</th>\n      <td>Arizona Governor Blocks 31,000 Low Income Chi...</td>\n      <td>1</td>\n    </tr>\n    <tr>\n      <th>...</th>\n      <td>...</td>\n      <td>...</td>\n    </tr>\n    <tr>\n      <th>44890</th>\n      <td>BREAKING  Putin Tramples Obama’s Imaginary Red...</td>\n      <td>1</td>\n    </tr>\n    <tr>\n      <th>44891</th>\n      <td>Clinton seeks to keep Trump on defensive after...</td>\n      <td>0</td>\n    </tr>\n    <tr>\n      <th>44892</th>\n      <td>Watch Joe Biden Tells Us EXACTLY What Trump I...</td>\n      <td>1</td>\n    </tr>\n    <tr>\n      <th>44893</th>\n      <td>Australian police seize record A$1 billion met...</td>\n      <td>0</td>\n    </tr>\n    <tr>\n      <th>44894</th>\n      <td>May confident of winning Brexit deal that work...</td>\n      <td>0</td>\n    </tr>\n  </tbody>\n</table>\n<p>38729 rows × 2 columns</p>\n</div>",
      "text/plain": "                                                   title  Classifier\n0      At least 800 civilians killed by coalition str...           0\n1      Bathroom lawsuit could send transgender rights...           0\n2      British minister to be investigated over sexua...           0\n3      Dutch tourist group cuts South Africa visit sh...           0\n4       Arizona Governor Blocks 31,000 Low Income Chi...           1\n...                                                  ...         ...\n44890  BREAKING  Putin Tramples Obama’s Imaginary Red...           1\n44891  Clinton seeks to keep Trump on defensive after...           0\n44892   Watch Joe Biden Tells Us EXACTLY What Trump I...           1\n44893  Australian police seize record A$1 billion met...           0\n44894  May confident of winning Brexit deal that work...           0\n\n[38729 rows x 2 columns]"
     },
     "execution_count": 23,
     "metadata": {},
     "output_type": "execute_result"
    }
   ],
   "source": [
    "no_duplicates"
   ]
  },
  {
   "cell_type": "code",
   "execution_count": 25,
   "metadata": {},
   "outputs": [],
   "source": [
    "no_duplicates.to_csv('../data/no_repeats.csv', index=False)"
   ]
  }
 ],
 "metadata": {
  "kernelspec": {
   "display_name": "Python 3.9.4 64-bit",
   "name": "97b43bb3-563d-4cb9-8a61-c1a4ed9d8e2e"
  },
  "language_info": {
   "codemirror_mode": {
    "name": "ipython",
    "version": 3
   },
   "file_extension": ".py",
   "mimetype": "text/x-python",
   "name": "python",
   "nbconvert_exporter": "python",
   "pygments_lexer": "ipython3",
   "version": "3.9.4"
  },
  "orig_nbformat": 2
 },
 "nbformat": 4,
 "nbformat_minor": 2
}