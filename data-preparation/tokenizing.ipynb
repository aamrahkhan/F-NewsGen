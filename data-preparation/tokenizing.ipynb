{
 "cells": [
  {
   "cell_type": "code",
   "execution_count": 1,
   "metadata": {},
   "outputs": [],
   "source": [
    "import pandas as pd\n",
    "from nltk.tokenize import RegexpTokenizer"
   ]
  },
  {
   "cell_type": "code",
   "execution_count": 2,
   "metadata": {},
   "outputs": [],
   "source": [
    "import pandas as pd\n",
    "from nltk.tokenize import RegexpTokenizer"
   ]
  },
  {
   "cell_type": "markdown",
   "metadata": {},
   "source": [
    "Created a word boundary tokenizer using RegexpTokenizer"
   ]
  },
  {
   "cell_type": "code",
   "execution_count": 3,
   "metadata": {},
   "outputs": [],
   "source": [
    "tokenizer = RegexpTokenizer(r'\\w+')"
   ]
  },
  {
   "cell_type": "code",
   "execution_count": 4,
   "metadata": {},
   "outputs": [],
   "source": [
    "data_set = pd.read_csv(\"../data/Final_data_set.csv\")"
   ]
  },
  {
   "cell_type": "markdown",
   "metadata": {},
   "source": [
    "Applied defined tokenizer to 'title' column of dataset to create a 'token' column"
   ]
  },
  {
   "cell_type": "code",
   "execution_count": 5,
   "metadata": {},
   "outputs": [],
   "source": [
    "data_set[\"tokens\"] = data_set[\"title\"].apply(tokenizer.tokenize)"
   ]
  },
  {
   "cell_type": "code",
   "execution_count": 6,
   "metadata": {},
   "outputs": [
    {
     "data": {
      "text/html": [
       "<div>\n",
       "<style scoped>\n",
       "    .dataframe tbody tr th:only-of-type {\n",
       "        vertical-align: middle;\n",
       "    }\n",
       "\n",
       "    .dataframe tbody tr th {\n",
       "        vertical-align: top;\n",
       "    }\n",
       "\n",
       "    .dataframe thead th {\n",
       "        text-align: right;\n",
       "    }\n",
       "</style>\n",
       "<table border=\"1\" class=\"dataframe\">\n",
       "  <thead>\n",
       "    <tr style=\"text-align: right;\">\n",
       "      <th></th>\n",
       "      <th>Unnamed: 0</th>\n",
       "      <th>title</th>\n",
       "      <th>Classifier</th>\n",
       "      <th>tokens</th>\n",
       "    </tr>\n",
       "  </thead>\n",
       "  <tbody>\n",
       "    <tr>\n",
       "      <th>0</th>\n",
       "      <td>0</td>\n",
       "      <td>At least 800 civilians killed by coalition str...</td>\n",
       "      <td>0</td>\n",
       "      <td>[At, least, 800, civilians, killed, by, coalit...</td>\n",
       "    </tr>\n",
       "    <tr>\n",
       "      <th>1</th>\n",
       "      <td>1</td>\n",
       "      <td>Bathroom lawsuit could send transgender rights...</td>\n",
       "      <td>0</td>\n",
       "      <td>[Bathroom, lawsuit, could, send, transgender, ...</td>\n",
       "    </tr>\n",
       "    <tr>\n",
       "      <th>2</th>\n",
       "      <td>2</td>\n",
       "      <td>British minister to be investigated over sexua...</td>\n",
       "      <td>0</td>\n",
       "      <td>[British, minister, to, be, investigated, over...</td>\n",
       "    </tr>\n",
       "    <tr>\n",
       "      <th>3</th>\n",
       "      <td>3</td>\n",
       "      <td>Dutch tourist group cuts South Africa visit sh...</td>\n",
       "      <td>0</td>\n",
       "      <td>[Dutch, tourist, group, cuts, South, Africa, v...</td>\n",
       "    </tr>\n",
       "    <tr>\n",
       "      <th>4</th>\n",
       "      <td>4</td>\n",
       "      <td>Arizona Governor Blocks 31,000 Low Income Chi...</td>\n",
       "      <td>1</td>\n",
       "      <td>[Arizona, Governor, Blocks, 31, 000, Low, Inco...</td>\n",
       "    </tr>\n",
       "  </tbody>\n",
       "</table>\n",
       "</div>"
      ],
      "text/plain": [
       "   Unnamed: 0                                              title  Classifier  \\\n",
       "0           0  At least 800 civilians killed by coalition str...           0   \n",
       "1           1  Bathroom lawsuit could send transgender rights...           0   \n",
       "2           2  British minister to be investigated over sexua...           0   \n",
       "3           3  Dutch tourist group cuts South Africa visit sh...           0   \n",
       "4           4   Arizona Governor Blocks 31,000 Low Income Chi...           1   \n",
       "\n",
       "                                              tokens  \n",
       "0  [At, least, 800, civilians, killed, by, coalit...  \n",
       "1  [Bathroom, lawsuit, could, send, transgender, ...  \n",
       "2  [British, minister, to, be, investigated, over...  \n",
       "3  [Dutch, tourist, group, cuts, South, Africa, v...  \n",
       "4  [Arizona, Governor, Blocks, 31, 000, Low, Inco...  "
      ]
     },
     "execution_count": 6,
     "metadata": {},
     "output_type": "execute_result"
    }
   ],
   "source": [
    "data_set.head()"
   ]
  },
  {
   "cell_type": "markdown",
   "metadata": {},
   "source": [
    "**Note**: The possessive `s` is created as a token and Aamrah has an article on how to deal with them"
   ]
  },
  {
   "cell_type": "code",
   "execution_count": 7,
   "metadata": {},
   "outputs": [],
   "source": [
    "data_set.to_csv(\"tokens.csv\")"
   ]
  }
 ],
 "metadata": {
  "language_info": {
   "name": "python"
  },
  "orig_nbformat": 4
 },
 "nbformat": 4,
 "nbformat_minor": 2
}
