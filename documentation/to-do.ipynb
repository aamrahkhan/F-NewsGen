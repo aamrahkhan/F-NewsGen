{
    "cells": [
        {
            "cell_type": "markdown",
            "source": [
                "# To-do\n",
                "\n",
                "## August 17th 2021 9:51 PM\n",
                "\n",
                "1. Count the dataset for class balance (how many true vs false)\n",
                "2. Tokenise our text (split into individual words)\n",
                "3. Visualise/Inspect the tokens (it's (graph) plotting time)\n",
                "5. Implement Bag-of-words embeddings on the text/tokens\n",
                "4. Create a train-test split (`using from sklearn.model_selection import train_test_split`)\n",
                "5. Visualise/plotting the embeddings\n"
            ],
            "metadata": {}
        }
    ],
    "metadata": {
        "language_info": {
            "name": "python"
        },
        "orig_nbformat": 4
    },
    "nbformat": 4,
    "nbformat_minor": 2
}